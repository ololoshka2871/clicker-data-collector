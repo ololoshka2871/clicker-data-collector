{
 "cells": [
  {
   "cell_type": "markdown",
   "metadata": {},
   "source": [
    "# Анализ распределения разницы между частотой в момент удара и прогноза окончания остывания"
   ]
  },
  {
   "cell_type": "code",
   "execution_count": 1,
   "metadata": {},
   "outputs": [],
   "source": [
    "import numpy as np\n",
    "from matplotlib import pyplot as plt\n",
    "from scipy import optimize\n",
    "\n",
    "from fragment_iterator import fragment_iterator\n",
    "from shot_detector import States\n",
    "\n",
    "from halpers import load_all_logs_in_folder, f_aprox"
   ]
  },
  {
   "cell_type": "code",
   "execution_count": 2,
   "metadata": {},
   "outputs": [],
   "source": [
    "%load_ext autoreload\n",
    "%autoreload 2"
   ]
  },
  {
   "cell_type": "code",
   "execution_count": 3,
   "metadata": {},
   "outputs": [
    {
     "name": "stdout",
     "output_type": "stream",
     "text": [
      "Всего 235 серий\n"
     ]
    }
   ],
   "source": [
    "folder = 'data'\n",
    "\n",
    "global_series = load_all_logs_in_folder(folder)\n",
    "\n",
    "print(f'Всего {len(global_series)} серий')"
   ]
  },
  {
   "cell_type": "markdown",
   "metadata": {},
   "source": [
    "## Распределение изменеий частот после выстрела"
   ]
  },
  {
   "cell_type": "code",
   "execution_count": 15,
   "metadata": {},
   "outputs": [],
   "source": [
    "def get_freq_diffs(serie) -> list[float]:\n",
    "    diffs = []\n",
    "    for i, ts in enumerate(serie):\n",
    "        generator = iter(ts)\n",
    "        fragments = [f for f in fragment_iterator(generator, 0.85, 60)]\n",
    "        for fragment_descr in fragments:\n",
    "            fragment_start = fragment_descr['start'] # номер точки в исходном ряду\n",
    "            raw_fragment = fragment_descr['y_origin']\n",
    "            _min_index = np.argmin(raw_fragment) # индекс точки с минимальным значением\n",
    "            _min = raw_fragment[_min_index]\n",
    "            \n",
    "            if _min_index > 0.5 * len(raw_fragment):\n",
    "                continue\n",
    "\n",
    "            y = [y - _min for y in raw_fragment[_min_index:]]    \n",
    "            x = np.linspace(0, len(y) - 1, len(y))\n",
    "            \n",
    "            try:\n",
    "                coeffs, _ = optimize.curve_fit(f_aprox, x, y, p0=[1, 1], check_finite=True, bounds=((0.5, 0.1), (1.5, 100.0)))\n",
    "                dest_forecast = coeffs[0]\n",
    "            except RuntimeError:\n",
    "                continue\n",
    "\n",
    "            diff = dest_forecast - (raw_fragment[0] - _min)\n",
    "            if diff < 0.1:\n",
    "                continue\n",
    "            diffs.append(diff)\n",
    "    return diffs"
   ]
  },
  {
   "cell_type": "code",
   "execution_count": 20,
   "metadata": {},
   "outputs": [],
   "source": [
    "# гистограмма для значений diff\n",
    "diffs = get_freq_diffs(global_series)"
   ]
  },
  {
   "cell_type": "code",
   "execution_count": 21,
   "metadata": {},
   "outputs": [
    {
     "data": {
      "image/png": "[encoded data removed]",
      "text/plain": [
       "<Figure size 640x480 with 1 Axes>"
      ]
     },
     "metadata": {},
     "output_type": "display_data"
    }
   ],
   "source": [
    "\n",
    "_ = plt.hist(diffs, bins=20)"
   ]
  }
 ],
 "metadata": {
  "kernelspec": {
   "display_name": "Python 3",
   "language": "python",
   "name": "python3"
  },
  "language_info": {
   "codemirror_mode": {
    "name": "ipython",
    "version": 3
   },
   "file_extension": ".py",
   "mimetype": "text/x-python",
   "name": "python",
   "nbconvert_exporter": "python",
   "pygments_lexer": "ipython3",
   "version": "3.10.10"
  },
  "orig_nbformat": 4
 },
 "nbformat": 4,
 "nbformat_minor": 2
}
